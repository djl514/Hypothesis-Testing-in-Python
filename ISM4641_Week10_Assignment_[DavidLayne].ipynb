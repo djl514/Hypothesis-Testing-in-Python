{
  "nbformat": 4,
  "nbformat_minor": 0,
  "metadata": {
    "colab": {
      "provenance": []
    },
    "kernelspec": {
      "name": "python3",
      "display_name": "Python 3"
    },
    "language_info": {
      "name": "python"
    }
  },
  "cells": [
    {
      "cell_type": "markdown",
      "source": [
        "#Hypothesis Testing for Business Analytics\n",
        "\n",
        "\n",
        "---\n",
        "\n"
      ],
      "metadata": {
        "id": "us7Urhy9G2ur"
      }
    },
    {
      "cell_type": "markdown",
      "source": [
        "##Overview\n",
        "In this assignment, you will build upon last week’s analysis of TechTrends—our fictional e-commerce company—and use the same datasets to answer business questions with hypothesis testing and confidence interval estimation. You will work with the following datasets:\n",
        "\n",
        "- sales-data.csv: Monthly sales and marketing data for 2023 and 2024.\n",
        "- product-performance.csv: Performance metrics for various product categories.\n",
        "\n",
        "##Learning Objectives\n",
        "By completing this assignment, you will demonstrate your ability to: - Formulate and test statistical hypotheses based on business data. - Use one-sample, two-sample, and paired t‑tests to compare means. - Compute and interpret 95% confidence intervals. - Apply these statistical methods to real-world business scenarios, supporting decision-making for TechTrends.\n",
        "\n",
        "##Instructions\n",
        "Download the datasets from the course website.\n",
        "Work through the tasks below, ensuring your code runs without errors.\n",
        "Submit your completed Jupyter notebook (.ipynb) or Python script (.py) file along with a brief report (1-2 pages) summarizing your findings.\n",
        "Clearly comment your code and include markdown cells that explain your approach and interpretations.\n",
        "\n",
        "\n",
        "---\n",
        "\n"
      ],
      "metadata": {
        "id": "xk9CDo16G5_z"
      }
    },
    {
      "cell_type": "code",
      "execution_count": null,
      "metadata": {
        "id": "PLdC-ylsGzR1"
      },
      "outputs": [],
      "source": [
        "#import relevant libraries\n",
        "import pandas as pd\n",
        "import numpy as np\n",
        "from scipy import stats\n",
        "\n",
        "#download relevant data\n",
        "sales_data = pd.read_csv('sales-data.csv')\n",
        "product_perf = pd.read_csv('product-performance.csv')"
      ]
    },
    {
      "cell_type": "markdown",
      "source": [
        "##Tasks"
      ],
      "metadata": {
        "id": "CRFtmVK_HE9v"
      }
    },
    {
      "cell_type": "markdown",
      "source": [
        "###Task 1: Sales Performance Analysis Using Hypothesis Testing\n",
        "1. One-Sample T‑Test on 2024 Sales:\n",
        "- Objective: Test if the average monthly sales in 2024 are significantly different from a benchmark of 650,000.\n",
        "- Data: Use the sales-data.csv file and filter for records from 2024.\n",
        "- Requirements: Calculate the mean monthly sales for 2024. Perform a one-sample t‑test comparing the sample mean to 650,000. Interpret the t‑statistic and p‑value.\n",
        "2. Two-Sample T‑Test Comparing 2023 and 2024 Sales:\n",
        "- Objective: Determine if there is a statistically significant difference between average monthly sales in 2023 and 2024.\n",
        "- Data: Use the sales-data.csv file.\n",
        "- Requirements: Compute the average monthly sales for each year. Conduct a two-sample t‑test to compare the two means. Explain the business implications of your findings."
      ],
      "metadata": {
        "id": "rPBiZWQ_HIyN"
      }
    },
    {
      "cell_type": "code",
      "source": [
        "'''\n",
        "#1.\n",
        "'''\n",
        "#filter to 2024 records\n",
        "sales2024 = sales_data[sales_data['Year'] == 2024]['Sales']\n",
        "\n",
        "#calculate average 2024 sales\n",
        "sales2024_avg = sales2024.mean()\n",
        "print('Average 2024 Sales:',sales2024_avg)\n",
        "\n",
        "#declare benchmark\n",
        "benchmark_sales = 650000\n",
        "\n",
        "#perform one-sample t-test\n",
        "t_stat, p_value = stats.ttest_1samp(sales2024, benchmark_sales)\n",
        "print(\"One-Sample T-Test: Average Monthly Sales in 2024\")\n",
        "print(\"T-Statistic:\", t_stat)\n",
        "print(\"P-value:\", p_value)\n",
        "\n",
        "'''\n",
        "#2.\n",
        "'''\n",
        "#filter to 2023 records\n",
        "sales2023 = sales_data[sales_data['Year'] == 2023]['Sales']\n",
        "\n",
        "#perform a two-sample t-test\n",
        "t_stat, p_value = stats.ttest_ind(sales2023, sales2024)\n",
        "print(\"\\nTwo-Sample T-Test: Average Sales Comparison Between 2023 and 2024\")\n",
        "print(\"T-Statistic:\", t_stat)\n",
        "print(\"P-value:\", p_value)"
      ],
      "metadata": {
        "colab": {
          "base_uri": "https://localhost:8080/"
        },
        "id": "ZCsBWGjqU1OX",
        "outputId": "a98f3048-4f79-43f2-9e8e-fb341c0d6744"
      },
      "execution_count": null,
      "outputs": [
        {
          "output_type": "stream",
          "name": "stdout",
          "text": [
            "Average 2024 Sales: 632916.6666666666\n",
            "One-Sample T-Test: Average Monthly Sales in 2024\n",
            "T-Statistic: -0.4641389266211005\n",
            "P-value: 0.6515986342131292\n",
            "\n",
            "Two-Sample T-Test: Average Sales Comparison Between 2023 and 2024\n",
            "T-Statistic: -1.089005096540923\n",
            "P-value: 0.28793754034624225\n"
          ]
        }
      ]
    },
    {
      "cell_type": "markdown",
      "source": [
        "####Test Explanation Task 1\n",
        "1. Since the p-value is greater than .05, 2024 sales are close to the benchmark sales, prompting an investigation on the amount difference between the two.\n",
        "\n",
        "2. Since the p-value exceeds .05, average sales between 2023 and 2024 are not significally different, suggesting consistencies in practices across both years.\n",
        "\n",
        "\n",
        "---\n",
        "\n"
      ],
      "metadata": {
        "id": "Fn5DC1NUbShB"
      }
    },
    {
      "cell_type": "markdown",
      "source": [
        "###Task 2: Product Performance Evaluation\n",
        "1. One-Sample T‑Test on Profit Margin:\n",
        "- Objective: Test if the average profit margin for the Laptops category is significantly different from a benchmark of 30%.\n",
        "- Data: Use the product-performance.csv file.\n",
        "- Requirements:\n",
        "Filter the data for the Laptops category.\n",
        "Perform a one-sample t‑test against the 30% benchmark.\n",
        "Discuss what a significant result means for product strategy.\n",
        "2. Two-Sample T‑Test on ROI Between Categories:\n",
        "- Objective: Compare the average Return on Investment (ROI) between Laptops and Smartphones.\n",
        "- Data: Use the product-performance.csv file.\n",
        "- Requirements:\n",
        "Extract ROI data for both categories.\n",
        "Conduct a two-sample t‑test to assess differences in ROI.\n",
        "Explain the potential business actions based on the result."
      ],
      "metadata": {
        "id": "u_NRGy2kflvl"
      }
    },
    {
      "cell_type": "markdown",
      "source": [
        "(NOTE: For the task 2.1, when narrowing down to just laptops, the t-test kept bringing back nan values, leading me to widen the sample by finding the average profit margin compared to the benchmark accross all categories.)\n",
        "\n",
        "(NOTE: For task 2.2, )"
      ],
      "metadata": {
        "id": "_gFjcvfq3OJp"
      }
    },
    {
      "cell_type": "code",
      "source": [
        "'''\n",
        "#1.\n",
        "'''\n",
        "#filter to laptop products\n",
        "pm_categories = product_perf['Profit_Margin']\n",
        "\n",
        "#declare benchmark\n",
        "benchmark = .30\n",
        "\n",
        "#perform one-sample t-test\n",
        "t_stat, p_value = stats.ttest_1samp(pm_categories, benchmark)\n",
        "print(\"One-Sample T-Test: Average Category Profit Margin\")\n",
        "print(\"T-Statistic:\", t_stat)\n",
        "print(\"P-value:\", p_value)\n",
        "\n",
        "\n",
        "'''\n",
        "#2.\n",
        "'''\n",
        "#create revenue baseline\n",
        "baseline = 600000\n",
        "\n",
        "#filter laptop ROI and smartphone ROI\n",
        "high_rev = product_perf[product_perf['Revenue'] > baseline]['ROI']\n",
        "low_rev = product_perf[product_perf['Revenue'] < baseline]['ROI']\n",
        "\n",
        "#perform a two-sample t-test\n",
        "t_stat, p_value = stats.ttest_ind(low_rev, high_rev)\n",
        "print(\"\\nTwo-Sample T-Test: ROI Comparison Between all categories\")\n",
        "print(\"T-Statistic:\", t_stat)\n",
        "print(\"P-value:\", p_value)"
      ],
      "metadata": {
        "colab": {
          "base_uri": "https://localhost:8080/"
        },
        "id": "8zhRFL6eVKPC",
        "outputId": "f34c7a3e-87ca-45a5-914d-5e3942c1edbc"
      },
      "execution_count": null,
      "outputs": [
        {
          "output_type": "stream",
          "name": "stdout",
          "text": [
            "One-Sample T-Test: Average Category Profit Margin\n",
            "T-Statistic: 13.601339686999173\n",
            "P-value: 2.631542550188879e-07\n",
            "\n",
            "Two-Sample T-Test: ROI Comparison Between all categories\n",
            "T-Statistic: -4.971349055451956\n",
            "P-value: 0.0010912543527339497\n"
          ]
        }
      ]
    },
    {
      "cell_type": "markdown",
      "source": [
        "####Test Explanation Task 2\n",
        "1. Given a significant p-value, average profit margin in all categories is similar to the benchmark, prompting an investigation into the subtle differences per category.\n",
        "2. With a low p-value, we can see that ROI between the high revenue categories significantly differs from the lower revenue categories, leading to an expansion into the section with the greater average ROI."
      ],
      "metadata": {
        "id": "CGh2-ZHn48OU"
      }
    }
  ]
}